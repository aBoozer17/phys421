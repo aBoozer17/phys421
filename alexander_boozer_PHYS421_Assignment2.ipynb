{
  "nbformat": 4,
  "nbformat_minor": 0,
  "metadata": {
    "kernelspec": {
      "display_name": "Python 3",
      "language": "python",
      "name": "python3"
    },
    "language_info": {
      "codemirror_mode": {
        "name": "ipython",
        "version": 3
      },
      "file_extension": ".py",
      "mimetype": "text/x-python",
      "name": "python",
      "nbconvert_exporter": "python",
      "pygments_lexer": "ipython3",
      "version": "3.6.8"
    },
    "colab": {
      "name": "alexander_boozer_PHYS421_Assignment2.ipynb",
      "provenance": [],
      "include_colab_link": true
    }
  },
  "cells": [
    {
      "cell_type": "markdown",
      "metadata": {
        "id": "view-in-github",
        "colab_type": "text"
      },
      "source": [
        "<a href=\"https://colab.research.google.com/github/aBoozer17/phys421/blob/master/alexander_boozer_PHYS421_Assignment2.ipynb\" target=\"_parent\"><img src=\"https://colab.research.google.com/assets/colab-badge.svg\" alt=\"Open In Colab\"/></a>"
      ]
    },
    {
      "cell_type": "markdown",
      "metadata": {
        "id": "GpQjeJzCs8Pn"
      },
      "source": [
        "# Assignment 2\n",
        "\n",
        "Due Date:  11:59pm on Friday, October 2nd (for now)"
      ]
    },
    {
      "cell_type": "markdown",
      "metadata": {
        "id": "2uL0Ra6Qs8Pr"
      },
      "source": [
        "## Question 1 - Fitting Part Deux"
      ]
    },
    {
      "cell_type": "markdown",
      "metadata": {
        "id": "VbVDDkyxs8Pt"
      },
      "source": [
        "In the Jupyter Notebook called Fitting_Examples.ipynb, the last few examples considered cases where the uncertainty in the data became\n",
        "larger at small x-values.  We considered three scenarios for collecting\n",
        "the data - one where we focused on small x-values, and two others that covered larger ranges of x.\n",
        "\n",
        "For this question, begin with the Jupyter Notebook above, and modify it\n",
        "to consider 10 x-value ranges that keep the minimum value of the range constant (and fairly close to zero) while varying the maximum x-value from small to larger values.  For each x-value range, calculate the uncertainty in the y-intercept, and then create a plot of the uncertainty as a function of that maximum x-value of the range.\n",
        "\n",
        "Now, consider keeping the maximum x-value of the range constant, and vary the minimum value of the range from a small value, close to zero, to a larger value that is close to the maximum value.  Create a plot of the\n",
        "uncertainty in the y-intercept as a function of the minimum x-value of the range.\n",
        "\n",
        "What can you conclude from this study about the optimal experiment design?"
      ]
    },
    {
      "cell_type": "code",
      "metadata": {
        "id": "NkO7r6dSYyso"
      },
      "source": [
        "import numpy as np\n",
        "import pandas as pd\n",
        "import datetime\n",
        "import matplotlib.pyplot as plt\n",
        "import scipy.stats as stats"
      ],
      "execution_count": 232,
      "outputs": []
    },
    {
      "cell_type": "code",
      "metadata": {
        "id": "JJjGZOylYys6"
      },
      "source": [
        "# create some fake data\n",
        "\n",
        "npts = 11\n",
        "xlow = 0.5\n",
        "xhigh = 5.5\n",
        "\n",
        "xl = xlow + 0.01\n",
        "xmid = (xhigh+xlow)/2.0+0.01\n",
        "\n",
        "xi = np.linspace(xlow,xhigh,npts)\n",
        "yrandom = stats.norm.rvs(size=npts,loc=0,scale=.2)\n",
        "yi = xi + yrandom"
      ],
      "execution_count": 233,
      "outputs": []
    },
    {
      "cell_type": "code",
      "metadata": {
        "id": "Ah-En_flYytE",
        "outputId": "aeb1b116-1874-458c-d4d3-5cb5b7740f45",
        "colab": {
          "base_uri": "https://localhost:8080/",
          "height": 282
        }
      },
      "source": [
        "plt.plot(xi,yi,'o')"
      ],
      "execution_count": 234,
      "outputs": [
        {
          "output_type": "execute_result",
          "data": {
            "text/plain": [
              "[<matplotlib.lines.Line2D at 0x7f869d0ebe10>]"
            ]
          },
          "metadata": {
            "tags": []
          },
          "execution_count": 234
        },
        {
          "output_type": "display_data",
          "data": {
            "image/png": "[encoded data removed]",
            "text/plain": [
              "<Figure size 432x288 with 1 Axes>"
            ]
          },
          "metadata": {
            "tags": [],
            "needs_background": "light"
          }
        }
      ]
    },
    {
      "cell_type": "markdown",
      "metadata": {
        "id": "tMwAIqG8YytU"
      },
      "source": [
        "## Case 1:  Linear Fit with No Uncertainties"
      ]
    },
    {
      "cell_type": "code",
      "metadata": {
        "id": "MwUU4YjtYytW",
        "outputId": "842a3970-f2ab-4d75-9ab4-840a22078874",
        "colab": {
          "base_uri": "https://localhost:8080/",
          "height": 387
        }
      },
      "source": [
        "from scipy.optimize import curve_fit\n",
        "\n",
        "def fitfunction(x,*paramlist):\n",
        "    return paramlist[0]+paramlist[1]*x\n",
        "\n",
        "init_vals = [0.0 for x in range(2)]\n",
        "popt, pcov = curve_fit(fitfunction,xi,yi,p0=init_vals)\n",
        "perr = np.sqrt(np.diag(pcov))\n",
        "\n",
        "ps = np.random.multivariate_normal(popt,pcov,10000)\n",
        "ysample=np.asarray([fitfunction(xi,*pi) for pi in ps])\n",
        "\n",
        "lower = np.percentile(ysample,2.5,axis=0)\n",
        "upper = np.percentile(ysample,97.5,axis=0)\n",
        "middle = (lower+upper)/2.0\n",
        "\n",
        "print(\"Coefficients (from curve_fit)\")\n",
        "print (popt)\n",
        "print(\"Covariance Matrix (from curve_fit)\")\n",
        "print (pcov)\n",
        "\n",
        "print()\n",
        "print (\"Final Result: y = (%0.2f +/- %0.2f) x + (%0.2f +/- %0.2f)\" % (popt[1],perr[1],popt[0],perr[0]))\n",
        "\n",
        "plt.plot(xi,yi,'o')\n",
        "\n",
        "plt.plot(xi,middle)\n",
        "plt.plot(xi,lower)\n",
        "plt.plot(xi,upper)\n",
        "plt.show()\n",
        "\n",
        "slope = []\n",
        "dslope = []\n",
        "yint = []\n",
        "dyint = []\n",
        "type = []\n",
        "\n",
        "slope.append(popt[1])\n",
        "dslope.append(perr[1])\n",
        "yint.append(popt[0])\n",
        "dyint.append(perr[0])\n",
        "type.append('None')"
      ],
      "execution_count": 235,
      "outputs": [
        {
          "output_type": "stream",
          "text": [
            "Coefficients (from curve_fit)\n",
            "[-0.10754255  1.03130765]\n",
            "Covariance Matrix (from curve_fit)\n",
            "[[ 0.01266026 -0.00330268]\n",
            " [-0.00330268  0.00110089]]\n",
            "\n",
            "Final Result: y = (1.03 +/- 0.03) x + (-0.11 +/- 0.11)\n"
          ],
          "name": "stdout"
        },
        {
          "output_type": "display_data",
          "data": {
            "image/png": "[encoded data removed]",
            "text/plain": [
              "<Figure size 432x288 with 1 Axes>"
            ]
          },
          "metadata": {
            "tags": [],
            "needs_background": "light"
          }
        }
      ]
    },
    {
      "cell_type": "markdown",
      "metadata": {
        "id": "rYd4vr1AYytk"
      },
      "source": [
        "## Case 2:  Linear Fit with Uniform Uncertainties"
      ]
    },
    {
      "cell_type": "code",
      "metadata": {
        "id": "VK7YdkR4Yytm",
        "outputId": "53bac9a8-a605-46ca-d0e4-b25eb0fa4b8a",
        "colab": {
          "base_uri": "https://localhost:8080/",
          "height": 282
        }
      },
      "source": [
        "sigmai = np.array([0.5 for i in range(npts)])\n",
        "plt.errorbar(xi, yi, yerr=sigmai, fmt='o', capsize=5, capthick=2)"
      ],
      "execution_count": 236,
      "outputs": [
        {
          "output_type": "execute_result",
          "data": {
            "text/plain": [
              "<ErrorbarContainer object of 3 artists>"
            ]
          },
          "metadata": {
            "tags": []
          },
          "execution_count": 236
        },
        {
          "output_type": "display_data",
          "data": {
            "image/png": "[encoded data removed]",
            "text/plain": [
              "<Figure size 432x288 with 1 Axes>"
            ]
          },
          "metadata": {
            "tags": [],
            "needs_background": "light"
          }
        }
      ]
    },
    {
      "cell_type": "code",
      "metadata": {
        "id": "ifSDBRaBYytv",
        "outputId": "bd7aad59-3e02-4140-cab6-80311e3fa9dd",
        "colab": {
          "base_uri": "https://localhost:8080/",
          "height": 384
        }
      },
      "source": [
        "init_vals = [0.0 for x in range(2)]\n",
        "popt, pcov = curve_fit(fitfunction,xi,yi,p0=init_vals,sigma=sigmai)\n",
        "perr = np.sqrt(np.diag(pcov))\n",
        "\n",
        "ps = np.random.multivariate_normal(popt,pcov,10000)\n",
        "ysample=np.asarray([fitfunction(xi,*pi) for pi in ps])\n",
        "\n",
        "lower = np.percentile(ysample,2.5,axis=0)\n",
        "upper = np.percentile(ysample,97.5,axis=0)\n",
        "middle = (lower+upper)/2.0\n",
        "\n",
        "print(\"Coefficients (from curve_fit)\")\n",
        "print (popt)\n",
        "print(\"Covariance Matrix (from curve_fit)\")\n",
        "print (pcov)\n",
        "\n",
        "print()\n",
        "print (\"Final Result: y = (%0.2f +/- %0.2f) x + (%0.2f +/- %0.2f)\" % (popt[1],perr[1],popt[0],perr[0]))\n",
        "\n",
        "plt.errorbar(xi, yi, yerr=sigmai, fmt='o', capsize=5, capthick=2)\n",
        "\n",
        "plt.plot(xi,middle)\n",
        "plt.plot(xi,lower)\n",
        "plt.plot(xi,upper)\n",
        "plt.show()\n",
        "\n",
        "slope.append(popt[1])\n",
        "dslope.append(perr[1])\n",
        "yint.append(popt[0])\n",
        "dyint.append(perr[0])\n",
        "type.append('Uniform')"
      ],
      "execution_count": 237,
      "outputs": [
        {
          "output_type": "stream",
          "text": [
            "Coefficients (from curve_fit)\n",
            "[-0.10754255  1.03130765]\n",
            "Covariance Matrix (from curve_fit)\n",
            "[[ 0.01266026 -0.00330268]\n",
            " [-0.00330268  0.00110089]]\n",
            "\n",
            "Final Result: y = (1.03 +/- 0.03) x + (-0.11 +/- 0.11)\n"
          ],
          "name": "stdout"
        },
        {
          "output_type": "display_data",
          "data": {
            "image/png": "[encoded data removed]",
            "text/plain": [
              "<Figure size 432x288 with 1 Axes>"
            ]
          },
          "metadata": {
            "tags": [],
            "needs_background": "light"
          }
        }
      ]
    },
    {
      "cell_type": "markdown",
      "metadata": {
        "id": "0ab27knXYyt5"
      },
      "source": [
        "## Case 3:  Linear Fit with Increasing Uncertainties"
      ]
    },
    {
      "cell_type": "code",
      "metadata": {
        "id": "SDItg9t6Yyt7",
        "outputId": "df0e33d9-92a3-4c31-f819-813328babaca",
        "colab": {
          "base_uri": "https://localhost:8080/",
          "height": 282
        }
      },
      "source": [
        "sigmai = np.array([0.1 + 0.25*(xi[i]-xl) for i in range(npts)])\n",
        "plt.errorbar(xi, yi, yerr=sigmai, fmt='o', capsize=5, capthick=2)"
      ],
      "execution_count": 238,
      "outputs": [
        {
          "output_type": "execute_result",
          "data": {
            "text/plain": [
              "<ErrorbarContainer object of 3 artists>"
            ]
          },
          "metadata": {
            "tags": []
          },
          "execution_count": 238
        },
        {
          "output_type": "display_data",
          "data": {
            "image/png": "[encoded data removed]",
            "text/plain": [
              "<Figure size 432x288 with 1 Axes>"
            ]
          },
          "metadata": {
            "tags": [],
            "needs_background": "light"
          }
        }
      ]
    },
    {
      "cell_type": "code",
      "metadata": {
        "id": "aS6xNIIHYyuF",
        "outputId": "bec4a964-ecfd-4c58-cc2d-235eef13f98a",
        "colab": {
          "base_uri": "https://localhost:8080/",
          "height": 384
        }
      },
      "source": [
        "init_vals = [0.0 for x in range(2)]\n",
        "popt, pcov = curve_fit(fitfunction,xi,yi,p0=init_vals,sigma=sigmai)\n",
        "perr = np.sqrt(np.diag(pcov))\n",
        "\n",
        "ps = np.random.multivariate_normal(popt,pcov,10000)\n",
        "ysample=np.asarray([fitfunction(xi,*pi) for pi in ps])\n",
        "\n",
        "lower = np.percentile(ysample,2.5,axis=0)\n",
        "upper = np.percentile(ysample,97.5,axis=0)\n",
        "middle = (lower+upper)/2.0\n",
        "\n",
        "print(\"Coefficients (from curve_fit)\")\n",
        "print (popt)\n",
        "print(\"Covariance Matrix (from curve_fit)\")\n",
        "print (pcov)\n",
        "\n",
        "print()\n",
        "print (\"Final Result: y = (%0.2f +/- %0.2f) x + (%0.2f +/- %0.2f)\" % (popt[1],perr[1],popt[0],perr[0]))\n",
        "\n",
        "plt.errorbar(xi, yi, yerr=sigmai, fmt='o', capsize=5, capthick=2)\n",
        "\n",
        "plt.plot(xi,middle)\n",
        "plt.plot(xi,lower)\n",
        "plt.plot(xi,upper)\n",
        "plt.show()\n",
        "\n",
        "slope.append(popt[1])\n",
        "dslope.append(perr[1])\n",
        "yint.append(popt[0])\n",
        "dyint.append(perr[0])\n",
        "type.append('Increasing')"
      ],
      "execution_count": 239,
      "outputs": [
        {
          "output_type": "stream",
          "text": [
            "Coefficients (from curve_fit)\n",
            "[0.09302134 0.93866871]\n",
            "Covariance Matrix (from curve_fit)\n",
            "[[ 0.00482179 -0.00301146]\n",
            " [-0.00301146  0.00351833]]\n",
            "\n",
            "Final Result: y = (0.94 +/- 0.06) x + (0.09 +/- 0.07)\n"
          ],
          "name": "stdout"
        },
        {
          "output_type": "display_data",
          "data": {
            "image/png": "[encoded data removed]",
            "text/plain": [
              "<Figure size 432x288 with 1 Axes>"
            ]
          },
          "metadata": {
            "tags": [],
            "needs_background": "light"
          }
        }
      ]
    },
    {
      "cell_type": "markdown",
      "metadata": {
        "id": "xCkuyTw3YyuT"
      },
      "source": [
        "## Case 4:  Linear Fit with Increasing Uncertainties at Endpoints"
      ]
    },
    {
      "cell_type": "code",
      "metadata": {
        "id": "qSFn2PmrYyuW",
        "outputId": "17b38d1a-713a-4041-b850-42acc44d90a1",
        "colab": {
          "base_uri": "https://localhost:8080/",
          "height": 282
        }
      },
      "source": [
        "sigmai = np.array([0.1+ 0.25*(xi[i]-xmid) for i in range(npts)])\n",
        "plt.errorbar(xi, yi, yerr=sigmai, fmt='o', capsize=5, capthick=2)"
      ],
      "execution_count": 240,
      "outputs": [
        {
          "output_type": "execute_result",
          "data": {
            "text/plain": [
              "<ErrorbarContainer object of 3 artists>"
            ]
          },
          "metadata": {
            "tags": []
          },
          "execution_count": 240
        },
        {
          "output_type": "display_data",
          "data": {
            "image/png": "[encoded data removed]",
            "text/plain": [
              "<Figure size 432x288 with 1 Axes>"
            ]
          },
          "metadata": {
            "tags": [],
            "needs_background": "light"
          }
        }
      ]
    },
    {
      "cell_type": "code",
      "metadata": {
        "id": "P993FtjFYyuf",
        "outputId": "f8c45dc9-b833-4ca4-d40c-27025e4b537a",
        "colab": {
          "base_uri": "https://localhost:8080/",
          "height": 384
        }
      },
      "source": [
        "init_vals = [0.0 for x in range(2)]\n",
        "popt, pcov = curve_fit(fitfunction,xi,yi,p0=init_vals,sigma=sigmai)\n",
        "perr = np.sqrt(np.diag(pcov))\n",
        "\n",
        "ps = np.random.multivariate_normal(popt,pcov,10000)\n",
        "ysample=np.asarray([fitfunction(xi,*pi) for pi in ps])\n",
        "\n",
        "lower = np.percentile(ysample,2.5,axis=0)\n",
        "upper = np.percentile(ysample,97.5,axis=0)\n",
        "middle = (lower+upper)/2.0\n",
        "\n",
        "print(\"Coefficients (from curve_fit)\")\n",
        "print (popt)\n",
        "print(\"Covariance Matrix (from curve_fit)\")\n",
        "print (pcov)\n",
        "\n",
        "print()\n",
        "print (\"Final Result: y = (%0.2f +/- %0.2f) x + (%0.2f +/- %0.2f)\" % (popt[1],perr[1],popt[0],perr[0]))\n",
        "\n",
        "plt.errorbar(xi, yi, yerr=sigmai, fmt='o', capsize=5, capthick=2)\n",
        "\n",
        "plt.plot(xi,middle)\n",
        "plt.plot(xi,lower)\n",
        "plt.plot(xi,upper)\n",
        "plt.show()\n",
        "\n",
        "slope.append(popt[1])\n",
        "dslope.append(perr[1])\n",
        "yint.append(popt[0])\n",
        "dyint.append(perr[0])\n",
        "type.append('Endpoints')"
      ],
      "execution_count": 241,
      "outputs": [
        {
          "output_type": "stream",
          "text": [
            "Coefficients (from curve_fit)\n",
            "[0.08168538 1.00304148]\n",
            "Covariance Matrix (from curve_fit)\n",
            "[[ 0.02124305 -0.00823447]\n",
            " [-0.00823447  0.00324629]]\n",
            "\n",
            "Final Result: y = (1.00 +/- 0.06) x + (0.08 +/- 0.15)\n"
          ],
          "name": "stdout"
        },
        {
          "output_type": "display_data",
          "data": {
            "image/png": "[encoded data removed]",
            "text/plain": [
              "<Figure size 432x288 with 1 Axes>"
            ]
          },
          "metadata": {
            "tags": [],
            "needs_background": "light"
          }
        }
      ]
    },
    {
      "cell_type": "markdown",
      "metadata": {
        "id": "OIPq2uddYyup"
      },
      "source": [
        "## Preliminary Conclusions\n",
        "\n",
        "1. If the uncertainties are uniform, there is no impact on the uncertainties in the fit parameters, the uncertainties in the fit parameters, or the confidence bands.  This can be understood mathematically by considering the dependence of $\\chi^2$ on $\\sigma_i$; if all $\\sigma_i$ are the same, then there is no dependence of the derivatives of $\\chi^2$ on $\\sigma_i$.\n",
        "\n",
        "2. If the uncertainties are non-uniform, the resulting fit parameters and confidence bands will depend upon the $\\sigma_i$ in a complicated way!\n",
        "\n"
      ]
    },
    {
      "cell_type": "code",
      "metadata": {
        "id": "TDS9r7-eYyur",
        "outputId": "ffd0d75a-d57e-4a31-fc06-fedf6b314c74",
        "colab": {
          "base_uri": "https://localhost:8080/",
          "height": 173
        }
      },
      "source": [
        "df = pd.DataFrame({'Fit Type':type, 'Slope':slope, 'Error in Slope':dslope, 'Y Intercept':yint, 'Error in Y Intercept':dyint})\n",
        "df.head()"
      ],
      "execution_count": 242,
      "outputs": [
        {
          "output_type": "execute_result",
          "data": {
            "text/html": [
              "<div>\n",
              "<style scoped>\n",
              "    .dataframe tbody tr th:only-of-type {\n",
              "        vertical-align: middle;\n",
              "    }\n",
              "\n",
              "    .dataframe tbody tr th {\n",
              "        vertical-align: top;\n",
              "    }\n",
              "\n",
              "    .dataframe thead th {\n",
              "        text-align: right;\n",
              "    }\n",
              "</style>\n",
              "<table border=\"1\" class=\"dataframe\">\n",
              "  <thead>\n",
              "    <tr style=\"text-align: right;\">\n",
              "      <th></th>\n",
              "      <th>Fit Type</th>\n",
              "      <th>Slope</th>\n",
              "      <th>Error in Slope</th>\n",
              "      <th>Y Intercept</th>\n",
              "      <th>Error in Y Intercept</th>\n",
              "    </tr>\n",
              "  </thead>\n",
              "  <tbody>\n",
              "    <tr>\n",
              "      <th>0</th>\n",
              "      <td>None</td>\n",
              "      <td>1.031308</td>\n",
              "      <td>0.033180</td>\n",
              "      <td>-0.107543</td>\n",
              "      <td>0.112518</td>\n",
              "    </tr>\n",
              "    <tr>\n",
              "      <th>1</th>\n",
              "      <td>Uniform</td>\n",
              "      <td>1.031308</td>\n",
              "      <td>0.033180</td>\n",
              "      <td>-0.107543</td>\n",
              "      <td>0.112518</td>\n",
              "    </tr>\n",
              "    <tr>\n",
              "      <th>2</th>\n",
              "      <td>Increasing</td>\n",
              "      <td>0.938669</td>\n",
              "      <td>0.059315</td>\n",
              "      <td>0.093021</td>\n",
              "      <td>0.069439</td>\n",
              "    </tr>\n",
              "    <tr>\n",
              "      <th>3</th>\n",
              "      <td>Endpoints</td>\n",
              "      <td>1.003041</td>\n",
              "      <td>0.056976</td>\n",
              "      <td>0.081685</td>\n",
              "      <td>0.145750</td>\n",
              "    </tr>\n",
              "  </tbody>\n",
              "</table>\n",
              "</div>"
            ],
            "text/plain": [
              "     Fit Type     Slope  Error in Slope  Y Intercept  Error in Y Intercept\n",
              "0        None  1.031308        0.033180    -0.107543              0.112518\n",
              "1     Uniform  1.031308        0.033180    -0.107543              0.112518\n",
              "2  Increasing  0.938669        0.059315     0.093021              0.069439\n",
              "3   Endpoints  1.003041        0.056976     0.081685              0.145750"
            ]
          },
          "metadata": {
            "tags": []
          },
          "execution_count": 242
        }
      ]
    },
    {
      "cell_type": "markdown",
      "metadata": {
        "id": "SePvAReZYyu0"
      },
      "source": [
        "## Case 5:  Determining the Y-intercept with increasing uncertainties at small x\n",
        "\n",
        "In many experiments, the uncertainties increase as the independent variable ($x$) becomes small.  We seek to understand how best to design our experiment in these situations to optimize the determination of the y-intercept (at $x=0$)."
      ]
    },
    {
      "cell_type": "code",
      "metadata": {
        "id": "rBUksGVzYyu2",
        "outputId": "a403c859-25bd-4a69-dfcc-179b9367e886",
        "colab": {
          "base_uri": "https://localhost:8080/",
          "height": 282
        }
      },
      "source": [
        "sigmai = np.array([0.1+ 1.5/np.abs(xi[i]) for i in range(npts)])\n",
        "plt.errorbar(xi, yi, yerr=sigmai, fmt='o', capsize=5, capthick=2)"
      ],
      "execution_count": 243,
      "outputs": [
        {
          "output_type": "execute_result",
          "data": {
            "text/plain": [
              "<ErrorbarContainer object of 3 artists>"
            ]
          },
          "metadata": {
            "tags": []
          },
          "execution_count": 243
        },
        {
          "output_type": "display_data",
          "data": {
            "image/png": "[encoded data removed]",
            "text/plain": [
              "<Figure size 432x288 with 1 Axes>"
            ]
          },
          "metadata": {
            "tags": [],
            "needs_background": "light"
          }
        }
      ]
    },
    {
      "cell_type": "code",
      "metadata": {
        "id": "LoocWqAxYyu-",
        "outputId": "5d6b772b-9dc4-4f02-d83c-f7d8544fcd5f",
        "colab": {
          "base_uri": "https://localhost:8080/",
          "height": 384
        }
      },
      "source": [
        "init_vals = [0.0 for x in range(2)]\n",
        "popt, pcov = curve_fit(fitfunction,xi,yi,p0=init_vals,sigma=sigmai)\n",
        "perr = np.sqrt(np.diag(pcov))\n",
        "\n",
        "ps = np.random.multivariate_normal(popt,pcov,10000)\n",
        "ysample=np.asarray([fitfunction(xi,*pi) for pi in ps])\n",
        "\n",
        "lower = np.percentile(ysample,2.5,axis=0)\n",
        "upper = np.percentile(ysample,97.5,axis=0)\n",
        "middle = (lower+upper)/2.0\n",
        "\n",
        "print(\"Coefficients (from curve_fit)\")\n",
        "print (popt)\n",
        "print(\"Covariance Matrix (from curve_fit)\")\n",
        "print (pcov)\n",
        "\n",
        "print()\n",
        "print (\"Final Result: y = (%0.2f +/- %0.2f) x + (%0.2f +/- %0.2f)\" % (popt[1],perr[1],popt[0],perr[0]))\n",
        "\n",
        "plt.errorbar(xi, yi, yerr=sigmai, fmt='o', capsize=5, capthick=2)\n",
        "\n",
        "plt.plot(xi,middle)\n",
        "plt.plot(xi,lower)\n",
        "plt.plot(xi,upper)\n",
        "plt.show()\n",
        "\n",
        "slope.append(popt[1])\n",
        "dslope.append(perr[1])\n",
        "yint.append(popt[0])\n",
        "dyint.append(perr[0])\n",
        "type.append('Increasing at Small X')"
      ],
      "execution_count": 244,
      "outputs": [
        {
          "output_type": "stream",
          "text": [
            "Coefficients (from curve_fit)\n",
            "[-0.18778343  1.0513263 ]\n",
            "Covariance Matrix (from curve_fit)\n",
            "[[ 0.03392846 -0.00755253]\n",
            " [-0.00755253  0.0018127 ]]\n",
            "\n",
            "Final Result: y = (1.05 +/- 0.04) x + (-0.19 +/- 0.18)\n"
          ],
          "name": "stdout"
        },
        {
          "output_type": "display_data",
          "data": {
            "image/png": "[encoded data removed]",
            "text/plain": [
              "<Figure size 432x288 with 1 Axes>"
            ]
          },
          "metadata": {
            "tags": [],
            "needs_background": "light"
          }
        }
      ]
    },
    {
      "cell_type": "markdown",
      "metadata": {
        "id": "D79ZDxP3YyvG"
      },
      "source": [
        "## Preliminary Conclusion:  our knowledge of the y-intercept is very limited!"
      ]
    },
    {
      "cell_type": "code",
      "metadata": {
        "id": "oxGsUgf3YyvK",
        "outputId": "20ebe127-950f-4c6d-cc3c-64f11f7e4bbd",
        "colab": {
          "base_uri": "https://localhost:8080/",
          "height": 204
        }
      },
      "source": [
        "df = pd.DataFrame({'Fit Type':type, 'Slope':slope, 'Error in Slope':dslope, 'Y Intercept':yint, 'Error in Y Intercept':dyint})\n",
        "df.head()"
      ],
      "execution_count": 245,
      "outputs": [
        {
          "output_type": "execute_result",
          "data": {
            "text/html": [
              "<div>\n",
              "<style scoped>\n",
              "    .dataframe tbody tr th:only-of-type {\n",
              "        vertical-align: middle;\n",
              "    }\n",
              "\n",
              "    .dataframe tbody tr th {\n",
              "        vertical-align: top;\n",
              "    }\n",
              "\n",
              "    .dataframe thead th {\n",
              "        text-align: right;\n",
              "    }\n",
              "</style>\n",
              "<table border=\"1\" class=\"dataframe\">\n",
              "  <thead>\n",
              "    <tr style=\"text-align: right;\">\n",
              "      <th></th>\n",
              "      <th>Fit Type</th>\n",
              "      <th>Slope</th>\n",
              "      <th>Error in Slope</th>\n",
              "      <th>Y Intercept</th>\n",
              "      <th>Error in Y Intercept</th>\n",
              "    </tr>\n",
              "  </thead>\n",
              "  <tbody>\n",
              "    <tr>\n",
              "      <th>0</th>\n",
              "      <td>None</td>\n",
              "      <td>1.031308</td>\n",
              "      <td>0.033180</td>\n",
              "      <td>-0.107543</td>\n",
              "      <td>0.112518</td>\n",
              "    </tr>\n",
              "    <tr>\n",
              "      <th>1</th>\n",
              "      <td>Uniform</td>\n",
              "      <td>1.031308</td>\n",
              "      <td>0.033180</td>\n",
              "      <td>-0.107543</td>\n",
              "      <td>0.112518</td>\n",
              "    </tr>\n",
              "    <tr>\n",
              "      <th>2</th>\n",
              "      <td>Increasing</td>\n",
              "      <td>0.938669</td>\n",
              "      <td>0.059315</td>\n",
              "      <td>0.093021</td>\n",
              "      <td>0.069439</td>\n",
              "    </tr>\n",
              "    <tr>\n",
              "      <th>3</th>\n",
              "      <td>Endpoints</td>\n",
              "      <td>1.003041</td>\n",
              "      <td>0.056976</td>\n",
              "      <td>0.081685</td>\n",
              "      <td>0.145750</td>\n",
              "    </tr>\n",
              "    <tr>\n",
              "      <th>4</th>\n",
              "      <td>Increasing at Small X</td>\n",
              "      <td>1.051326</td>\n",
              "      <td>0.042576</td>\n",
              "      <td>-0.187783</td>\n",
              "      <td>0.184197</td>\n",
              "    </tr>\n",
              "  </tbody>\n",
              "</table>\n",
              "</div>"
            ],
            "text/plain": [
              "                Fit Type     Slope  ...  Y Intercept  Error in Y Intercept\n",
              "0                   None  1.031308  ...    -0.107543              0.112518\n",
              "1                Uniform  1.031308  ...    -0.107543              0.112518\n",
              "2             Increasing  0.938669  ...     0.093021              0.069439\n",
              "3              Endpoints  1.003041  ...     0.081685              0.145750\n",
              "4  Increasing at Small X  1.051326  ...    -0.187783              0.184197\n",
              "\n",
              "[5 rows x 5 columns]"
            ]
          },
          "metadata": {
            "tags": []
          },
          "execution_count": 245
        }
      ]
    },
    {
      "cell_type": "markdown",
      "metadata": {
        "id": "onIQUoXmYyvW"
      },
      "source": [
        "## Case 6:   Decrease the range of x - Focus on the small x region\n",
        "\n",
        "What is the impact of taking the same amount of data as in the original experiment, but focusing on the small x region?"
      ]
    },
    {
      "cell_type": "code",
      "metadata": {
        "id": "c19Br7xfYyvY",
        "outputId": "9dbdfcfc-3063-4320-898d-a39dddabd050",
        "colab": {
          "base_uri": "https://localhost:8080/",
          "height": 282
        }
      },
      "source": [
        "# create some fake data\n",
        "\n",
        "npts = 11\n",
        "xlow = 0.5\n",
        "xhigh = 3.0\n",
        "\n",
        "xl = xlow + 0.01\n",
        "xmid = (xhigh+xlow)/2.0+0.01\n",
        "\n",
        "xi = np.linspace(xlow,xhigh,npts)\n",
        "yi = xi + yrandom\n",
        "\n",
        "sigmai = np.array([0.1+ 1.5/np.abs(xi[i]) for i in range(npts)])\n",
        "plt.errorbar(xi, yi, yerr=sigmai, fmt='o', capsize=5, capthick=2)"
      ],
      "execution_count": 246,
      "outputs": [
        {
          "output_type": "execute_result",
          "data": {
            "text/plain": [
              "<ErrorbarContainer object of 3 artists>"
            ]
          },
          "metadata": {
            "tags": []
          },
          "execution_count": 246
        },
        {
          "output_type": "display_data",
          "data": {
            "image/png": "[encoded data removed]",
            "text/plain": [
              "<Figure size 432x288 with 1 Axes>"
            ]
          },
          "metadata": {
            "tags": [],
            "needs_background": "light"
          }
        }
      ]
    },
    {
      "cell_type": "code",
      "metadata": {
        "id": "3ATeBkkaYyvk",
        "outputId": "a8990437-d399-4791-dc20-9ee734408917",
        "colab": {
          "base_uri": "https://localhost:8080/",
          "height": 384
        }
      },
      "source": [
        "init_vals = [0.0 for x in range(2)]\n",
        "popt, pcov = curve_fit(fitfunction,xi,yi,p0=init_vals,sigma=sigmai)\n",
        "perr = np.sqrt(np.diag(pcov))\n",
        "\n",
        "ps = np.random.multivariate_normal(popt,pcov,10000)\n",
        "ysample=np.asarray([fitfunction(xi,*pi) for pi in ps])\n",
        "\n",
        "lower = np.percentile(ysample,2.5,axis=0)\n",
        "upper = np.percentile(ysample,97.5,axis=0)\n",
        "middle = (lower+upper)/2.0\n",
        "\n",
        "print(\"Coefficients (from curve_fit)\")\n",
        "print (popt)\n",
        "print(\"Covariance Matrix (from curve_fit)\")\n",
        "print (pcov)\n",
        "\n",
        "print()\n",
        "print (\"Final Result: y = (%0.2f +/- %0.2f) x + (%0.2f +/- %0.2f)\" % (popt[1],perr[1],popt[0],perr[0]))\n",
        "\n",
        "plt.errorbar(xi, yi, yerr=sigmai, fmt='o', capsize=5, capthick=2)\n",
        "\n",
        "plt.plot(xi,middle)\n",
        "plt.plot(xi,lower)\n",
        "plt.plot(xi,upper)\n",
        "plt.show()\n",
        "\n",
        "slope.append(popt[1])\n",
        "dslope.append(perr[1])\n",
        "yint.append(popt[0])\n",
        "dyint.append(perr[0])\n",
        "type.append('Small X Range')"
      ],
      "execution_count": 247,
      "outputs": [
        {
          "output_type": "stream",
          "text": [
            "Coefficients (from curve_fit)\n",
            "[-0.20424257  1.09921514]\n",
            "Covariance Matrix (from curve_fit)\n",
            "[[ 0.03712985 -0.01506655]\n",
            " [-0.01506655  0.00655003]]\n",
            "\n",
            "Final Result: y = (1.10 +/- 0.08) x + (-0.20 +/- 0.19)\n"
          ],
          "name": "stdout"
        },
        {
          "output_type": "display_data",
          "data": {
            "image/png": "[encoded data removed]",
            "text/plain": [
              "<Figure size 432x288 with 1 Axes>"
            ]
          },
          "metadata": {
            "tags": [],
            "needs_background": "light"
          }
        }
      ]
    },
    {
      "cell_type": "code",
      "metadata": {
        "id": "iJ_le7bNYyvw",
        "outputId": "0b56815f-89d5-4ddf-e7fe-ca04fe2f9069",
        "colab": {
          "base_uri": "https://localhost:8080/",
          "height": 235
        }
      },
      "source": [
        "df = pd.DataFrame({'Fit Type':type, 'Slope':slope, 'Error in Slope':dslope, 'Y Intercept':yint, 'Error in Y Intercept':dyint})\n",
        "df.head(10)"
      ],
      "execution_count": 248,
      "outputs": [
        {
          "output_type": "execute_result",
          "data": {
            "text/html": [
              "<div>\n",
              "<style scoped>\n",
              "    .dataframe tbody tr th:only-of-type {\n",
              "        vertical-align: middle;\n",
              "    }\n",
              "\n",
              "    .dataframe tbody tr th {\n",
              "        vertical-align: top;\n",
              "    }\n",
              "\n",
              "    .dataframe thead th {\n",
              "        text-align: right;\n",
              "    }\n",
              "</style>\n",
              "<table border=\"1\" class=\"dataframe\">\n",
              "  <thead>\n",
              "    <tr style=\"text-align: right;\">\n",
              "      <th></th>\n",
              "      <th>Fit Type</th>\n",
              "      <th>Slope</th>\n",
              "      <th>Error in Slope</th>\n",
              "      <th>Y Intercept</th>\n",
              "      <th>Error in Y Intercept</th>\n",
              "    </tr>\n",
              "  </thead>\n",
              "  <tbody>\n",
              "    <tr>\n",
              "      <th>0</th>\n",
              "      <td>None</td>\n",
              "      <td>1.031308</td>\n",
              "      <td>0.033180</td>\n",
              "      <td>-0.107543</td>\n",
              "      <td>0.112518</td>\n",
              "    </tr>\n",
              "    <tr>\n",
              "      <th>1</th>\n",
              "      <td>Uniform</td>\n",
              "      <td>1.031308</td>\n",
              "      <td>0.033180</td>\n",
              "      <td>-0.107543</td>\n",
              "      <td>0.112518</td>\n",
              "    </tr>\n",
              "    <tr>\n",
              "      <th>2</th>\n",
              "      <td>Increasing</td>\n",
              "      <td>0.938669</td>\n",
              "      <td>0.059315</td>\n",
              "      <td>0.093021</td>\n",
              "      <td>0.069439</td>\n",
              "    </tr>\n",
              "    <tr>\n",
              "      <th>3</th>\n",
              "      <td>Endpoints</td>\n",
              "      <td>1.003041</td>\n",
              "      <td>0.056976</td>\n",
              "      <td>0.081685</td>\n",
              "      <td>0.145750</td>\n",
              "    </tr>\n",
              "    <tr>\n",
              "      <th>4</th>\n",
              "      <td>Increasing at Small X</td>\n",
              "      <td>1.051326</td>\n",
              "      <td>0.042576</td>\n",
              "      <td>-0.187783</td>\n",
              "      <td>0.184197</td>\n",
              "    </tr>\n",
              "    <tr>\n",
              "      <th>5</th>\n",
              "      <td>Small X Range</td>\n",
              "      <td>1.099215</td>\n",
              "      <td>0.080932</td>\n",
              "      <td>-0.204243</td>\n",
              "      <td>0.192691</td>\n",
              "    </tr>\n",
              "  </tbody>\n",
              "</table>\n",
              "</div>"
            ],
            "text/plain": [
              "                Fit Type     Slope  ...  Y Intercept  Error in Y Intercept\n",
              "0                   None  1.031308  ...    -0.107543              0.112518\n",
              "1                Uniform  1.031308  ...    -0.107543              0.112518\n",
              "2             Increasing  0.938669  ...     0.093021              0.069439\n",
              "3              Endpoints  1.003041  ...     0.081685              0.145750\n",
              "4  Increasing at Small X  1.051326  ...    -0.187783              0.184197\n",
              "5          Small X Range  1.099215  ...    -0.204243              0.192691\n",
              "\n",
              "[6 rows x 5 columns]"
            ]
          },
          "metadata": {
            "tags": []
          },
          "execution_count": 248
        }
      ]
    },
    {
      "cell_type": "markdown",
      "metadata": {
        "id": "XvDZDxZ5Yyv4"
      },
      "source": [
        "## Case 7:   Increase the range of x - create a larger lever arm\n",
        "\n",
        "What is the impact of taking the same amount of data as in the original experiment, but increasing the x range, so as to creat a larger lever arm?"
      ]
    },
    {
      "cell_type": "code",
      "metadata": {
        "id": "MRy0pW6XYyv5",
        "outputId": "e5a33319-db5f-435d-bdc6-8f13144e8160",
        "colab": {
          "base_uri": "https://localhost:8080/",
          "height": 282
        }
      },
      "source": [
        "# create some fake data\n",
        "\n",
        "npts = 11\n",
        "xlow = 0.5\n",
        "xhigh = 10.0\n",
        "\n",
        "xl = xlow + 0.01\n",
        "xmid = (xhigh+xlow)/2.0+0.01\n",
        "\n",
        "xi = np.linspace(xlow,xhigh,npts)\n",
        "yi = xi + yrandom\n",
        "\n",
        "sigmai = np.array([0.1+ 1.5/np.abs(xi[i]) for i in range(npts)])\n",
        "plt.errorbar(xi, yi, yerr=sigmai, fmt='o', capsize=5, capthick=2)"
      ],
      "execution_count": 249,
      "outputs": [
        {
          "output_type": "execute_result",
          "data": {
            "text/plain": [
              "<ErrorbarContainer object of 3 artists>"
            ]
          },
          "metadata": {
            "tags": []
          },
          "execution_count": 249
        },
        {
          "output_type": "display_data",
          "data": {
            "image/png": "[encoded data removed]",
            "text/plain": [
              "<Figure size 432x288 with 1 Axes>"
            ]
          },
          "metadata": {
            "tags": [],
            "needs_background": "light"
          }
        }
      ]
    },
    {
      "cell_type": "code",
      "metadata": {
        "id": "1I7LQ9MHYywB",
        "outputId": "6e469ebe-3c06-4b1e-c9b6-21fc2b9beb36",
        "colab": {
          "base_uri": "https://localhost:8080/",
          "height": 384
        }
      },
      "source": [
        "init_vals = [0.0 for x in range(2)]\n",
        "popt, pcov = curve_fit(fitfunction,xi,yi,p0=init_vals,sigma=sigmai)\n",
        "perr = np.sqrt(np.diag(pcov))\n",
        "\n",
        "ps = np.random.multivariate_normal(popt,pcov,10000)\n",
        "ysample=np.asarray([fitfunction(xi,*pi) for pi in ps])\n",
        "\n",
        "lower = np.percentile(ysample,2.5,axis=0)\n",
        "upper = np.percentile(ysample,97.5,axis=0)\n",
        "middle = (lower+upper)/2.0\n",
        "\n",
        "print(\"Coefficients (from curve_fit)\")\n",
        "print (popt)\n",
        "print(\"Covariance Matrix (from curve_fit)\")\n",
        "print (pcov)\n",
        "\n",
        "print()\n",
        "print (\"Final Result: y = (%0.2f +/- %0.2f) x + (%0.2f +/- %0.2f)\" % (popt[1],perr[1],popt[0],perr[0]))\n",
        "\n",
        "plt.errorbar(xi, yi, yerr=sigmai, fmt='o', capsize=5, capthick=2)\n",
        "\n",
        "plt.plot(xi,middle)\n",
        "plt.plot(xi,lower)\n",
        "plt.plot(xi,upper)\n",
        "plt.show()\n",
        "\n",
        "slope.append(popt[1])\n",
        "dslope.append(perr[1])\n",
        "yint.append(popt[0])\n",
        "dyint.append(perr[0])\n",
        "type.append('Large X Range')"
      ],
      "execution_count": 250,
      "outputs": [
        {
          "output_type": "stream",
          "text": [
            "Coefficients (from curve_fit)\n",
            "[-0.17044456  1.02626957]\n",
            "Covariance Matrix (from curve_fit)\n",
            "[[ 0.03097794 -0.00383603]\n",
            " [-0.00383603  0.00051617]]\n",
            "\n",
            "Final Result: y = (1.03 +/- 0.02) x + (-0.17 +/- 0.18)\n"
          ],
          "name": "stdout"
        },
        {
          "output_type": "display_data",
          "data": {
            "image/png": "[encoded data removed]",
            "text/plain": [
              "<Figure size 432x288 with 1 Axes>"
            ]
          },
          "metadata": {
            "tags": [],
            "needs_background": "light"
          }
        }
      ]
    },
    {
      "cell_type": "code",
      "metadata": {
        "id": "579hEDHwYywM",
        "outputId": "f1cccff3-5c81-4710-c466-5691feef0154",
        "colab": {
          "base_uri": "https://localhost:8080/",
          "height": 266
        }
      },
      "source": [
        "df = pd.DataFrame({'Fit Type':type, 'Slope':slope, 'Error in Slope':dslope, 'Y Intercept':yint, 'Error in Y Intercept':dyint})\n",
        "df.head(10)"
      ],
      "execution_count": 251,
      "outputs": [
        {
          "output_type": "execute_result",
          "data": {
            "text/html": [
              "<div>\n",
              "<style scoped>\n",
              "    .dataframe tbody tr th:only-of-type {\n",
              "        vertical-align: middle;\n",
              "    }\n",
              "\n",
              "    .dataframe tbody tr th {\n",
              "        vertical-align: top;\n",
              "    }\n",
              "\n",
              "    .dataframe thead th {\n",
              "        text-align: right;\n",
              "    }\n",
              "</style>\n",
              "<table border=\"1\" class=\"dataframe\">\n",
              "  <thead>\n",
              "    <tr style=\"text-align: right;\">\n",
              "      <th></th>\n",
              "      <th>Fit Type</th>\n",
              "      <th>Slope</th>\n",
              "      <th>Error in Slope</th>\n",
              "      <th>Y Intercept</th>\n",
              "      <th>Error in Y Intercept</th>\n",
              "    </tr>\n",
              "  </thead>\n",
              "  <tbody>\n",
              "    <tr>\n",
              "      <th>0</th>\n",
              "      <td>None</td>\n",
              "      <td>1.031308</td>\n",
              "      <td>0.033180</td>\n",
              "      <td>-0.107543</td>\n",
              "      <td>0.112518</td>\n",
              "    </tr>\n",
              "    <tr>\n",
              "      <th>1</th>\n",
              "      <td>Uniform</td>\n",
              "      <td>1.031308</td>\n",
              "      <td>0.033180</td>\n",
              "      <td>-0.107543</td>\n",
              "      <td>0.112518</td>\n",
              "    </tr>\n",
              "    <tr>\n",
              "      <th>2</th>\n",
              "      <td>Increasing</td>\n",
              "      <td>0.938669</td>\n",
              "      <td>0.059315</td>\n",
              "      <td>0.093021</td>\n",
              "      <td>0.069439</td>\n",
              "    </tr>\n",
              "    <tr>\n",
              "      <th>3</th>\n",
              "      <td>Endpoints</td>\n",
              "      <td>1.003041</td>\n",
              "      <td>0.056976</td>\n",
              "      <td>0.081685</td>\n",
              "      <td>0.145750</td>\n",
              "    </tr>\n",
              "    <tr>\n",
              "      <th>4</th>\n",
              "      <td>Increasing at Small X</td>\n",
              "      <td>1.051326</td>\n",
              "      <td>0.042576</td>\n",
              "      <td>-0.187783</td>\n",
              "      <td>0.184197</td>\n",
              "    </tr>\n",
              "    <tr>\n",
              "      <th>5</th>\n",
              "      <td>Small X Range</td>\n",
              "      <td>1.099215</td>\n",
              "      <td>0.080932</td>\n",
              "      <td>-0.204243</td>\n",
              "      <td>0.192691</td>\n",
              "    </tr>\n",
              "    <tr>\n",
              "      <th>6</th>\n",
              "      <td>Large X Range</td>\n",
              "      <td>1.026270</td>\n",
              "      <td>0.022719</td>\n",
              "      <td>-0.170445</td>\n",
              "      <td>0.176006</td>\n",
              "    </tr>\n",
              "  </tbody>\n",
              "</table>\n",
              "</div>"
            ],
            "text/plain": [
              "                Fit Type     Slope  ...  Y Intercept  Error in Y Intercept\n",
              "0                   None  1.031308  ...    -0.107543              0.112518\n",
              "1                Uniform  1.031308  ...    -0.107543              0.112518\n",
              "2             Increasing  0.938669  ...     0.093021              0.069439\n",
              "3              Endpoints  1.003041  ...     0.081685              0.145750\n",
              "4  Increasing at Small X  1.051326  ...    -0.187783              0.184197\n",
              "5          Small X Range  1.099215  ...    -0.204243              0.192691\n",
              "6          Large X Range  1.026270  ...    -0.170445              0.176006\n",
              "\n",
              "[7 rows x 5 columns]"
            ]
          },
          "metadata": {
            "tags": []
          },
          "execution_count": 251
        }
      ]
    },
    {
      "cell_type": "code",
      "metadata": {
        "id": "anqRNhN4YywX"
      },
      "source": [
        ""
      ],
      "execution_count": 251,
      "outputs": []
    },
    {
      "cell_type": "markdown",
      "metadata": {
        "id": "Tp7uoRgSs8P_"
      },
      "source": [
        "## Question 2 - Why is it cold?"
      ]
    },
    {
      "cell_type": "markdown",
      "metadata": {
        "id": "tX7-5lSms8QA"
      },
      "source": [
        "Modify the Jupyter Notebook called GlobalTemperatures.ipynb to consider the temperature variations over the year for five locations - two in the northern hemisphere, one near the equator, and two in the southern hemisphere.  Do not use any of the same locations already considered.\n",
        "\n",
        "What are the scale factors and offsets required to give a reasonable fit in each case?"
      ]
    },
    {
      "cell_type": "code",
      "metadata": {
        "id": "bJ5SN2eds8QC"
      },
      "source": [
        ""
      ],
      "execution_count": 251,
      "outputs": []
    },
    {
      "cell_type": "code",
      "metadata": {
        "id": "i8n9Aq-aQz57",
        "outputId": "6e5bd44c-a6ce-4ab5-e344-9d6d06788c0e",
        "colab": {
          "base_uri": "https://localhost:8080/",
          "height": 282
        }
      },
      "source": [
        "# Number of days in the sidereal year\n",
        "daysPerYear = 365.256363\n",
        "\n",
        "# Array to hold day of year\n",
        "\n",
        "dayOfYear = np.array([i for i in range(1,366)])\n",
        "\n",
        "# Earth-Sun Distance in A.U.\n",
        "rES=1.0-0.01672*np.cos(2.0*np.pi/daysPerYear*(dayOfYear-4))\n",
        "relPower=1/rES**2\n",
        "\n",
        "plt.plot(dayOfYear,relPower,'.')"
      ],
      "execution_count": 252,
      "outputs": [
        {
          "output_type": "execute_result",
          "data": {
            "text/plain": [
              "[<matplotlib.lines.Line2D at 0x7f869cba3eb8>]"
            ]
          },
          "metadata": {
            "tags": []
          },
          "execution_count": 252
        },
        {
          "output_type": "display_data",
          "data": {
            "image/png": "[encoded data removed]",
            "text/plain": [
              "<Figure size 432x288 with 1 Axes>"
            ]
          },
          "metadata": {
            "tags": [],
            "needs_background": "light"
          }
        }
      ]
    },
    {
      "cell_type": "markdown",
      "metadata": {
        "id": "6CXrBHx8H80v"
      },
      "source": [
        "We will be finding temperatures from five diffrent locations. Hampton and Roanoake are located in the northerm hemisphere. Brazil is located near the equator. And Santiago and Buenos Aires are located in the southern hemisphere.\n"
      ]
    },
    {
      "cell_type": "code",
      "metadata": {
        "id": "DwwmJ4IWQz6G",
        "outputId": "6b39e294-11e8-48c5-993d-5800f8040ab7",
        "colab": {
          "base_uri": "https://localhost:8080/",
          "height": 282
        }
      },
      "source": [
        "# tilt angle of the earth in 2020\n",
        "tiltAngle = -23.44*np.pi/180.0\n",
        "\n",
        "angle = tiltAngle*np.cos(2.0*np.pi/daysPerYear*(dayOfYear+10))\n",
        "\n",
        "angleHampton = 37.0299*np.pi/180.0 - angle\n",
        "angleBrazil = -14.2350*np.pi/180.0 - angle\n",
        "angleBuenosAires = -34.6037*np.pi/180.0 - angle\n",
        "angleSantiago = -33.4489*np.pi/180.0 - angle\n",
        "angleRoanoke = 37.2710*np.pi/180.0 - angle\n",
        "\n",
        "\n",
        "plt.plot(dayOfYear,(np.cos(angleHampton)*relPower),'r')\n",
        "plt.plot(dayOfYear,(np.cos(angleBrazil)*relPower),'g')\n",
        "plt.plot(dayOfYear,(np.cos(angleBuenosAires)*relPower),'k')\n",
        "plt.plot(dayOfYear,(np.cos(angleSantiago)*relPower),'y')\n",
        "plt.plot(dayOfYear,(np.cos(angleRoanoke)*relPower),'b')"
      ],
      "execution_count": 253,
      "outputs": [
        {
          "output_type": "execute_result",
          "data": {
            "text/plain": [
              "[<matplotlib.lines.Line2D at 0x7f869cb1a7f0>]"
            ]
          },
          "metadata": {
            "tags": []
          },
          "execution_count": 253
        },
        {
          "output_type": "display_data",
          "data": {
            "image/png": "[encoded data removed]",
            "text/plain": [
              "<Figure size 432x288 with 1 Axes>"
            ]
          },
          "metadata": {
            "tags": [],
            "needs_background": "light"
          }
        }
      ]
    },
    {
      "cell_type": "code",
      "metadata": {
        "id": "ZU_Gj6RMJrzc"
      },
      "source": [
        ""
      ],
      "execution_count": 253,
      "outputs": []
    },
    {
      "cell_type": "code",
      "metadata": {
        "id": "V9vJ5-ziJbtR"
      },
      "source": [
        "class Sun:\n",
        "\n",
        "    def getSunriseTime( self, coords ):\n",
        "        return self.calcSunTime( coords, True )\n",
        "\n",
        "    def getSunsetTime( self, coords ):\n",
        "        return self.calcSunTime( coords, False )\n",
        "\n",
        "    def getCurrentUTC( self ):\n",
        "        now = datetime.datetime.now()\n",
        "        return [ now.day, now.month, now.year ]\n",
        "\n",
        "    def calcSunTime( self, coords, isRiseTime, zenith = 90.8 ):\n",
        "\n",
        "        # isRiseTime == False, returns sunsetTime\n",
        "\n",
        "        day, month, year = self.getCurrentUTC()\n",
        "        #print (day,month,year)\n",
        "\n",
        "        longitude = coords['longitude']\n",
        "        latitude = coords['latitude']\n",
        "\n",
        "        TO_RAD = np.pi/180\n",
        "\n",
        "        ##1. first calculate the day of the year\n",
        "        #N1 = math.floor(275 * month / 9)\n",
        "        #N2 = math.floor((month + 9) / 12)\n",
        "        #N3 = (1 + math.floor((year - 4 * math.floor(year / 4) + 2) / 3))\n",
        "        #N = N1 - (N2 * N3) + day - 30\n",
        "\n",
        "\t# EJB:  Modify to calculate the times for all days of the year!!\n",
        "        N = np.array([i for i in range(1,366)])\n",
        "\n",
        "        #2. convert the longitude to hour value and calculate an approximate time\n",
        "        lngHour = longitude / 15\n",
        "\n",
        "        if isRiseTime:\n",
        "            t = N + ((6 - lngHour) / 24)\n",
        "        else: #sunset\n",
        "            t = N + ((18 - lngHour) / 24)\n",
        "\n",
        "        #3. calculate the Sun's mean anomaly\n",
        "        M = (0.9856 * t) - 3.289\n",
        "\n",
        "        #4. calculate the Sun's true longitude\n",
        "        L = M + (1.916 * np.sin(TO_RAD*M)) + (0.020 * np.sin(TO_RAD * 2 * M)) + 282.634\n",
        "        L = self.forceRange( L, 360 ) #NOTE: L adjusted into the range [0,360)\n",
        "\n",
        "        #5a. calculate the Sun's right ascension\n",
        "\n",
        "        RA = (1/TO_RAD) * np.arctan(0.91764 * np.tan(TO_RAD*L))\n",
        "        RA = self.forceRange( RA, 360 ) #NOTE: RA adjusted into the range [0,360)\n",
        "\n",
        "        #5b. right ascension value needs to be in the same quadrant as L\n",
        "        Lquadrant  = (np.floor( L/90)) * 90\n",
        "        RAquadrant = (np.floor(RA/90)) * 90\n",
        "        RA = RA + (Lquadrant - RAquadrant)\n",
        "\n",
        "        #5c. right ascension value needs to be converted into hours\n",
        "        RA = RA / 15\n",
        "\n",
        "        #6. calculate the Sun's declination\n",
        "        sinDec = 0.39782 * np.sin(TO_RAD*L)\n",
        "        cosDec = np.cos(np.arcsin(sinDec))\n",
        "\n",
        "        #7a. calculate the Sun's local hour angle\n",
        "        cosH = (np.cos(TO_RAD*zenith) - (sinDec * np.sin(TO_RAD*latitude))) / (cosDec * np.cos(TO_RAD*latitude))\n",
        "\n",
        "        #if cosH > 1:\n",
        "        #    return {'status': False, 'msg': 'the sun never rises on this location (on the specified date)'}\n",
        "\n",
        "        #if cosH < -1:\n",
        "        #    return {'status': False, 'msg': 'the sun never sets on this location (on the specified date)'}\n",
        "\n",
        "        #7b. finish calculating H and convert into hours\n",
        "\n",
        "        if isRiseTime:\n",
        "            H = 360 - (1/TO_RAD) * np.arccos(cosH)\n",
        "        else: #setting\n",
        "            H = (1/TO_RAD) * np.arccos(cosH)\n",
        "\n",
        "        H = H / 15\n",
        "\n",
        "        #8. calculate local mean time of rising/setting\n",
        "        T = H + RA - (0.06571 * t) - 6.622\n",
        "\n",
        "        #9. adjust back to UTC\n",
        "        UT = T - lngHour\n",
        "        #print (UT)\n",
        "        UT = self.forceRange( UT, 24) # UTC time in decimal format (e.g. 23.23)\n",
        "        #print (UT)\n",
        "\n",
        "        #10. Return\n",
        "        #hr = self.forceRange(UT, 24)\n",
        "        #min = ((UT - UT.astype(int))*60,0)\n",
        "\n",
        "        return {\n",
        "            'status': True,\n",
        "            'decimal': UT\n",
        "            #'hr': hr,\n",
        "            #'min': min \n",
        "        }\n",
        "\n",
        "    def forceRange( self, v, max ):\n",
        "        # force v to be >= 0 and < max\n",
        "        for i in range(len(v)):\n",
        "            if v[i] < 0:\n",
        "                v[i] = v[i] + max\n",
        "            elif v[i] >= max:\n",
        "                v[i] = v[i] - max\n",
        "        return v"
      ],
      "execution_count": 254,
      "outputs": []
    },
    {
      "cell_type": "code",
      "metadata": {
        "id": "a1hQDAhTJe8w",
        "outputId": "27674e6e-9258-4a35-f45a-562e3466d82e",
        "colab": {
          "base_uri": "https://localhost:8080/",
          "height": 282
        }
      },
      "source": [
        "coords = {'longitude': 76.3452, 'latitude': 37.0299}\n",
        "sun = Sun()\n",
        "sunrise = sun.getSunriseTime(coords)['decimal']\n",
        "sunset = sun.getSunsetTime(coords)['decimal']\n",
        "dayLength = sun.getSunsetTime(coords)['decimal']-sun.getSunriseTime(coords)['decimal']\n",
        "for i in range(len(dayLength)):\n",
        "    if dayLength[i]<0:\n",
        "        dayLength[i] = dayLength[i]+24\n",
        "#print (dayLength)\n",
        "#plt.plot(dayOfYear,sunrise)\n",
        "#plt.plot(dayOfYear,sunset)\n",
        "#plt.plot(dayOfYear,dayLength)\n",
        "lengthCorrectionHampton = dayLength/12.0\n",
        "\n",
        "coords = {'longitude': 51.9253, 'latitude': -14.2350}\n",
        "sun = Sun()\n",
        "sunrise = sun.getSunriseTime(coords)['decimal']\n",
        "sunset = sun.getSunsetTime(coords)['decimal']\n",
        "dayLength = sun.getSunsetTime(coords)['decimal']-sun.getSunriseTime(coords)['decimal']\n",
        "for i in range(len(dayLength)):\n",
        "    if dayLength[i]<0:\n",
        "        dayLength[i] = dayLength[i]+24\n",
        "#print (dayLength)\n",
        "#plt.plot(dayOfYear,sunrise)\n",
        "#plt.plot(dayOfYear,sunset)\n",
        "#plt.plot(dayOfYear,dayLength)\n",
        "lengthCorrectionBrazil = dayLength/12.0\n",
        "\n",
        "coords = {'longitude': 58.3816, 'latitude': -34.6037}\n",
        "sun = Sun()\n",
        "sunrise = sun.getSunriseTime(coords)['decimal']\n",
        "sunset = sun.getSunsetTime(coords)['decimal']\n",
        "dayLength = sun.getSunsetTime(coords)['decimal']-sun.getSunriseTime(coords)['decimal']\n",
        "for i in range(len(dayLength)):\n",
        "    if dayLength[i]<0:\n",
        "        dayLength[i] = dayLength[i]+24\n",
        "#print (dayLength)\n",
        "#plt.plot(dayOfYear,sunrise)\n",
        "#plt.plot(dayOfYear,sunset)\n",
        "#plt.plot(dayOfYear,dayLength)\n",
        "lengthCorrectionBA = dayLength/12.0\n",
        "\n",
        "coords = {'longitude': 70.6693, 'latitude': -33.4489}\n",
        "sun = Sun()\n",
        "sunrise = sun.getSunriseTime(coords)['decimal']\n",
        "sunset = sun.getSunsetTime(coords)['decimal']\n",
        "dayLength = sun.getSunsetTime(coords)['decimal']-sun.getSunriseTime(coords)['decimal']\n",
        "for i in range(len(dayLength)):\n",
        "    if dayLength[i]<0:\n",
        "        dayLength[i] = dayLength[i]+24\n",
        "#print (dayLength)\n",
        "#plt.plot(dayOfYear,sunrise)\n",
        "#plt.plot(dayOfYear,sunset)\n",
        "#plt.plot(dayOfYear,dayLength)\n",
        "lengthCorrectionSantiago = dayLength/12.0\n",
        "\n",
        "coords = {'longitude': 79.9414, 'latitude': 37.2710}\n",
        "sun = Sun()\n",
        "sunrise = sun.getSunriseTime(coords)['decimal']\n",
        "sunset = sun.getSunsetTime(coords)['decimal']\n",
        "dayLength = sun.getSunsetTime(coords)['decimal']-sun.getSunriseTime(coords)['decimal']\n",
        "for i in range(len(dayLength)):\n",
        "    if dayLength[i]<0:\n",
        "        dayLength[i] = dayLength[i]+24\n",
        "#print (dayLength)\n",
        "#plt.plot(dayOfYear,sunrise)\n",
        "#plt.plot(dayOfYear,sunset)\n",
        "#plt.plot(dayOfYear,dayLength)\n",
        "lengthCorrectionRoanoke = dayLength/12.0\n",
        "\n",
        "plt.plot(dayOfYear,lengthCorrectionHampton)\n",
        "plt.plot(dayOfYear,lengthCorrectionBrazil)\n",
        "plt.plot(dayOfYear,lengthCorrectionBA)\n",
        "plt.plot(dayOfYear,lengthCorrectionSantiago)\n",
        "plt.plot(dayOfYear,lengthCorrectionRoanoke)"
      ],
      "execution_count": 255,
      "outputs": [
        {
          "output_type": "execute_result",
          "data": {
            "text/plain": [
              "[<matplotlib.lines.Line2D at 0x7f869caa36d8>]"
            ]
          },
          "metadata": {
            "tags": []
          },
          "execution_count": 255
        },
        {
          "output_type": "display_data",
          "data": {
            "image/png": "[encoded data removed]",
            "text/plain": [
              "<Figure size 432x288 with 1 Axes>"
            ]
          },
          "metadata": {
            "tags": [],
            "needs_background": "light"
          }
        }
      ]
    },
    {
      "cell_type": "markdown",
      "metadata": {
        "id": "giRbhtUePLKI"
      },
      "source": [
        "We will be using temperature data from the past two weeks (September 17 - 30)."
      ]
    },
    {
      "cell_type": "code",
      "metadata": {
        "id": "yIhyV54QOa1g"
      },
      "source": [
        "tempRio = np.array([30,31,30,28,26,25,25,25,26,27,28,29])+273.15\n",
        "tempEquador = np.array([26,26,26,26,26,25,25,26,27,27,27,27])+273.15\n",
        "tempKingston = np.array([-3,-1,4,11,18,23,26,25,20,13,7,1])+273.15\n",
        "tempNN = np.array([10,12,16,21,26,30,32,31,28,22,17,12])+273.15\n",
        "\n",
        "error = np.array([1 for i in range(12)])\n",
        "\n",
        "mean = tempNN.max()\n",
        "tempRio=tempRio/mean\n",
        "tempEquador=tempEquador/mean\n",
        "tempKingston=tempKingston/mean\n",
        "tempNN = tempNN/mean\n",
        "error=error/mean\n",
        "\n",
        "month = np.array([(15+30*(i-2)) for i in range(1,13)])\n",
        "for i in range(len(month)):\n",
        "    if month[i]<0:\n",
        "        month[i]=month[i]+365\n",
        "\n",
        "plt.errorbar(month,tempEquador,yerr=error,fmt='mo')\n",
        "plt.errorbar(month,tempRio,yerr=error,fmt='ro')\n",
        "plt.errorbar(month,tempKingston,yerr=error,fmt='go')\n",
        "plt.errorbar(month,tempNN,yerr=error,fmt='bo')\n",
        "plt.plot(dayOfYear,(tempNNTheory-1)/8+.995,'b')\n",
        "plt.plot(dayOfYear,(tempKingstonTheory-1)/7+.98,'g')\n",
        "plt.plot(dayOfYear,(tempRioTheory-1)/25+.99,'r')\n",
        "plt.plot(dayOfYear,(tempEquadorTheory-1)/25+.98,'m')"
      ],
      "execution_count": 255,
      "outputs": []
    },
    {
      "cell_type": "markdown",
      "metadata": {
        "id": "l-wEOYvvs8QZ"
      },
      "source": [
        "## Question 3 - Kater's Pendulum"
      ]
    },
    {
      "cell_type": "markdown",
      "metadata": {
        "id": "RwRQlr13s8Qc"
      },
      "source": [
        "Begin with the example Jupyter Notebook called KaterPendulum.ipynb.  Carry out a full analysis of the data obtained in the subdirectory called ~/KaterPendulum/data/scan2.  The file in this directory called kater_scan2_c2.dat will tell you what the x-positions of the small mass were (they are slightly different than in the example we covered in class).\n",
        "\n",
        "Think about how to \"clean\" the raw data before proceeding with the fits.\n",
        "\n",
        "What value of g is the \"best\" value for this data?  What value of the \"fudge factor\" offset gives the best comparison of the theory to the data? Is this a reasonable offset?"
      ]
    },
    {
      "cell_type": "code",
      "metadata": {
        "id": "BC4xYqViYhQN"
      },
      "source": [
        "#  position of small mass (in cm)\n",
        "xpos = np.array([1.045,2.044,3.012,4.012,5.061,6.011,7.044])\n",
        "dxpos = np.array([0.003 for i in range(len(xpos))])"
      ],
      "execution_count": 256,
      "outputs": []
    },
    {
      "cell_type": "code",
      "metadata": {
        "id": "ko2oH5q5YtkA",
        "outputId": "bab53d66-ad23-4fa7-9e35-443f6fda2d7c",
        "colab": {
          "base_uri": "https://localhost:8080/",
          "height": 1000
        }
      },
      "source": [
        "prefix = './KaterPendulum/data/scan5/kater_2_run'\n",
        "suffix = '.txt'\n",
        "\n",
        "tup = []\n",
        "tdown = []\n",
        "dtup = []\n",
        "dtdown = []\n",
        "\n",
        "# Generate the figure and the axes \n",
        "fig, axs = plt.subplots(nrows=7, ncols=1, figsize=(6,12)) \n",
        "\n",
        "for i in range(1,8):\n",
        "    i2 = 2*i\n",
        "    j = 2*i - 1\n",
        "    fname1 = prefix + str(i2) + suffix\n",
        "    fname2 = prefix + str(j) + suffix\n",
        "\n",
        "    dfup = pd.read_csv(fname1,sep='\\t')\n",
        "    dfdown = pd.read_csv(fname2,sep='\\t')\n",
        "    \n",
        "    timeup = np.array(dfup['Time'])\n",
        "    periodup = []\n",
        "    for k in range(2,len(timeup)):\n",
        "        periodup.append(timeup[k]-timeup[k-2])\n",
        "    \n",
        "    periodup=np.array(periodup)\n",
        "\n",
        "    semup = periodup.std()/np.sqrt(len(periodup))\n",
        "    print (\"Periodup = %0.5f +/- %0.8f\" % (periodup.mean(),semup))\n",
        "    \n",
        "    tup.append(periodup.mean())\n",
        "    dtup.append(semup)\n",
        "    \n",
        "    timedown = np.array(dfdown['Time'])\n",
        "    perioddown = []\n",
        "    for k in range(2,len(timedown)):\n",
        "        perioddown.append(timedown[k]-timedown[k-2])\n",
        "    \n",
        "    perioddown=np.array(perioddown)\n",
        "\n",
        "    semdown = perioddown.std()/np.sqrt(len(perioddown))\n",
        "    print (\"Perioddown = %0.5f +/- %0.8f\" % (perioddown.mean(),semdown))\n",
        "    \n",
        "    tdown.append(perioddown.mean())\n",
        "    dtdown.append(semup)\n",
        "\n",
        "    axs[i-1].plot(timeup[2:],periodup,'o')\n",
        "    axs[i-1].plot(timedown[2:],perioddown,'o')\n",
        "    axs[i-1].set_ylabel('Period (s)')\n",
        "    \n",
        "tup = np.array(tup)\n",
        "tdown = np.array(tdown)\n",
        "dtup = np.array(dtup)\n",
        "dtdown = np.array(dtdown)\n",
        "\n",
        "plt.show()"
      ],
      "execution_count": 257,
      "outputs": [
        {
          "output_type": "error",
          "ename": "FileNotFoundError",
          "evalue": "ignored",
          "traceback": [
            "\u001b[0;31m---------------------------------------------------------------------------\u001b[0m",
            "\u001b[0;31mFileNotFoundError\u001b[0m                         Traceback (most recent call last)",
            "\u001b[0;32m<ipython-input-257-975625c3757c>\u001b[0m in \u001b[0;36m<module>\u001b[0;34m()\u001b[0m\n\u001b[1;32m     16\u001b[0m     \u001b[0mfname2\u001b[0m \u001b[0;34m=\u001b[0m \u001b[0mprefix\u001b[0m \u001b[0;34m+\u001b[0m \u001b[0mstr\u001b[0m\u001b[0;34m(\u001b[0m\u001b[0mj\u001b[0m\u001b[0;34m)\u001b[0m \u001b[0;34m+\u001b[0m \u001b[0msuffix\u001b[0m\u001b[0;34m\u001b[0m\u001b[0;34m\u001b[0m\u001b[0m\n\u001b[1;32m     17\u001b[0m \u001b[0;34m\u001b[0m\u001b[0m\n\u001b[0;32m---> 18\u001b[0;31m     \u001b[0mdfup\u001b[0m \u001b[0;34m=\u001b[0m \u001b[0mpd\u001b[0m\u001b[0;34m.\u001b[0m\u001b[0mread_csv\u001b[0m\u001b[0;34m(\u001b[0m\u001b[0mfname1\u001b[0m\u001b[0;34m,\u001b[0m\u001b[0msep\u001b[0m\u001b[0;34m=\u001b[0m\u001b[0;34m'\\t'\u001b[0m\u001b[0;34m)\u001b[0m\u001b[0;34m\u001b[0m\u001b[0;34m\u001b[0m\u001b[0m\n\u001b[0m\u001b[1;32m     19\u001b[0m     \u001b[0mdfdown\u001b[0m \u001b[0;34m=\u001b[0m \u001b[0mpd\u001b[0m\u001b[0;34m.\u001b[0m\u001b[0mread_csv\u001b[0m\u001b[0;34m(\u001b[0m\u001b[0mfname2\u001b[0m\u001b[0;34m,\u001b[0m\u001b[0msep\u001b[0m\u001b[0;34m=\u001b[0m\u001b[0;34m'\\t'\u001b[0m\u001b[0;34m)\u001b[0m\u001b[0;34m\u001b[0m\u001b[0;34m\u001b[0m\u001b[0m\n\u001b[1;32m     20\u001b[0m \u001b[0;34m\u001b[0m\u001b[0m\n",
            "\u001b[0;32m/usr/local/lib/python3.6/dist-packages/pandas/io/parsers.py\u001b[0m in \u001b[0;36mread_csv\u001b[0;34m(filepath_or_buffer, sep, delimiter, header, names, index_col, usecols, squeeze, prefix, mangle_dupe_cols, dtype, engine, converters, true_values, false_values, skipinitialspace, skiprows, skipfooter, nrows, na_values, keep_default_na, na_filter, verbose, skip_blank_lines, parse_dates, infer_datetime_format, keep_date_col, date_parser, dayfirst, cache_dates, iterator, chunksize, compression, thousands, decimal, lineterminator, quotechar, quoting, doublequote, escapechar, comment, encoding, dialect, error_bad_lines, warn_bad_lines, delim_whitespace, low_memory, memory_map, float_precision)\u001b[0m\n\u001b[1;32m    684\u001b[0m     )\n\u001b[1;32m    685\u001b[0m \u001b[0;34m\u001b[0m\u001b[0m\n\u001b[0;32m--> 686\u001b[0;31m     \u001b[0;32mreturn\u001b[0m \u001b[0m_read\u001b[0m\u001b[0;34m(\u001b[0m\u001b[0mfilepath_or_buffer\u001b[0m\u001b[0;34m,\u001b[0m \u001b[0mkwds\u001b[0m\u001b[0;34m)\u001b[0m\u001b[0;34m\u001b[0m\u001b[0;34m\u001b[0m\u001b[0m\n\u001b[0m\u001b[1;32m    687\u001b[0m \u001b[0;34m\u001b[0m\u001b[0m\n\u001b[1;32m    688\u001b[0m \u001b[0;34m\u001b[0m\u001b[0m\n",
            "\u001b[0;32m/usr/local/lib/python3.6/dist-packages/pandas/io/parsers.py\u001b[0m in \u001b[0;36m_read\u001b[0;34m(filepath_or_buffer, kwds)\u001b[0m\n\u001b[1;32m    450\u001b[0m \u001b[0;34m\u001b[0m\u001b[0m\n\u001b[1;32m    451\u001b[0m     \u001b[0;31m# Create the parser.\u001b[0m\u001b[0;34m\u001b[0m\u001b[0;34m\u001b[0m\u001b[0;34m\u001b[0m\u001b[0m\n\u001b[0;32m--> 452\u001b[0;31m     \u001b[0mparser\u001b[0m \u001b[0;34m=\u001b[0m \u001b[0mTextFileReader\u001b[0m\u001b[0;34m(\u001b[0m\u001b[0mfp_or_buf\u001b[0m\u001b[0;34m,\u001b[0m \u001b[0;34m**\u001b[0m\u001b[0mkwds\u001b[0m\u001b[0;34m)\u001b[0m\u001b[0;34m\u001b[0m\u001b[0;34m\u001b[0m\u001b[0m\n\u001b[0m\u001b[1;32m    453\u001b[0m \u001b[0;34m\u001b[0m\u001b[0m\n\u001b[1;32m    454\u001b[0m     \u001b[0;32mif\u001b[0m \u001b[0mchunksize\u001b[0m \u001b[0;32mor\u001b[0m \u001b[0miterator\u001b[0m\u001b[0;34m:\u001b[0m\u001b[0;34m\u001b[0m\u001b[0;34m\u001b[0m\u001b[0m\n",
            "\u001b[0;32m/usr/local/lib/python3.6/dist-packages/pandas/io/parsers.py\u001b[0m in \u001b[0;36m__init__\u001b[0;34m(self, f, engine, **kwds)\u001b[0m\n\u001b[1;32m    934\u001b[0m             \u001b[0mself\u001b[0m\u001b[0;34m.\u001b[0m\u001b[0moptions\u001b[0m\u001b[0;34m[\u001b[0m\u001b[0;34m\"has_index_names\"\u001b[0m\u001b[0;34m]\u001b[0m \u001b[0;34m=\u001b[0m \u001b[0mkwds\u001b[0m\u001b[0;34m[\u001b[0m\u001b[0;34m\"has_index_names\"\u001b[0m\u001b[0;34m]\u001b[0m\u001b[0;34m\u001b[0m\u001b[0;34m\u001b[0m\u001b[0m\n\u001b[1;32m    935\u001b[0m \u001b[0;34m\u001b[0m\u001b[0m\n\u001b[0;32m--> 936\u001b[0;31m         \u001b[0mself\u001b[0m\u001b[0;34m.\u001b[0m\u001b[0m_make_engine\u001b[0m\u001b[0;34m(\u001b[0m\u001b[0mself\u001b[0m\u001b[0;34m.\u001b[0m\u001b[0mengine\u001b[0m\u001b[0;34m)\u001b[0m\u001b[0;34m\u001b[0m\u001b[0;34m\u001b[0m\u001b[0m\n\u001b[0m\u001b[1;32m    937\u001b[0m \u001b[0;34m\u001b[0m\u001b[0m\n\u001b[1;32m    938\u001b[0m     \u001b[0;32mdef\u001b[0m \u001b[0mclose\u001b[0m\u001b[0;34m(\u001b[0m\u001b[0mself\u001b[0m\u001b[0;34m)\u001b[0m\u001b[0;34m:\u001b[0m\u001b[0;34m\u001b[0m\u001b[0;34m\u001b[0m\u001b[0m\n",
            "\u001b[0;32m/usr/local/lib/python3.6/dist-packages/pandas/io/parsers.py\u001b[0m in \u001b[0;36m_make_engine\u001b[0;34m(self, engine)\u001b[0m\n\u001b[1;32m   1166\u001b[0m     \u001b[0;32mdef\u001b[0m \u001b[0m_make_engine\u001b[0m\u001b[0;34m(\u001b[0m\u001b[0mself\u001b[0m\u001b[0;34m,\u001b[0m \u001b[0mengine\u001b[0m\u001b[0;34m=\u001b[0m\u001b[0;34m\"c\"\u001b[0m\u001b[0;34m)\u001b[0m\u001b[0;34m:\u001b[0m\u001b[0;34m\u001b[0m\u001b[0;34m\u001b[0m\u001b[0m\n\u001b[1;32m   1167\u001b[0m         \u001b[0;32mif\u001b[0m \u001b[0mengine\u001b[0m \u001b[0;34m==\u001b[0m \u001b[0;34m\"c\"\u001b[0m\u001b[0;34m:\u001b[0m\u001b[0;34m\u001b[0m\u001b[0;34m\u001b[0m\u001b[0m\n\u001b[0;32m-> 1168\u001b[0;31m             \u001b[0mself\u001b[0m\u001b[0;34m.\u001b[0m\u001b[0m_engine\u001b[0m \u001b[0;34m=\u001b[0m \u001b[0mCParserWrapper\u001b[0m\u001b[0;34m(\u001b[0m\u001b[0mself\u001b[0m\u001b[0;34m.\u001b[0m\u001b[0mf\u001b[0m\u001b[0;34m,\u001b[0m \u001b[0;34m**\u001b[0m\u001b[0mself\u001b[0m\u001b[0;34m.\u001b[0m\u001b[0moptions\u001b[0m\u001b[0;34m)\u001b[0m\u001b[0;34m\u001b[0m\u001b[0;34m\u001b[0m\u001b[0m\n\u001b[0m\u001b[1;32m   1169\u001b[0m         \u001b[0;32melse\u001b[0m\u001b[0;34m:\u001b[0m\u001b[0;34m\u001b[0m\u001b[0;34m\u001b[0m\u001b[0m\n\u001b[1;32m   1170\u001b[0m             \u001b[0;32mif\u001b[0m \u001b[0mengine\u001b[0m \u001b[0;34m==\u001b[0m \u001b[0;34m\"python\"\u001b[0m\u001b[0;34m:\u001b[0m\u001b[0;34m\u001b[0m\u001b[0;34m\u001b[0m\u001b[0m\n",
            "\u001b[0;32m/usr/local/lib/python3.6/dist-packages/pandas/io/parsers.py\u001b[0m in \u001b[0;36m__init__\u001b[0;34m(self, src, **kwds)\u001b[0m\n\u001b[1;32m   1996\u001b[0m         \u001b[0mkwds\u001b[0m\u001b[0;34m[\u001b[0m\u001b[0;34m\"usecols\"\u001b[0m\u001b[0;34m]\u001b[0m \u001b[0;34m=\u001b[0m \u001b[0mself\u001b[0m\u001b[0;34m.\u001b[0m\u001b[0musecols\u001b[0m\u001b[0;34m\u001b[0m\u001b[0;34m\u001b[0m\u001b[0m\n\u001b[1;32m   1997\u001b[0m \u001b[0;34m\u001b[0m\u001b[0m\n\u001b[0;32m-> 1998\u001b[0;31m         \u001b[0mself\u001b[0m\u001b[0;34m.\u001b[0m\u001b[0m_reader\u001b[0m \u001b[0;34m=\u001b[0m \u001b[0mparsers\u001b[0m\u001b[0;34m.\u001b[0m\u001b[0mTextReader\u001b[0m\u001b[0;34m(\u001b[0m\u001b[0msrc\u001b[0m\u001b[0;34m,\u001b[0m \u001b[0;34m**\u001b[0m\u001b[0mkwds\u001b[0m\u001b[0;34m)\u001b[0m\u001b[0;34m\u001b[0m\u001b[0;34m\u001b[0m\u001b[0m\n\u001b[0m\u001b[1;32m   1999\u001b[0m         \u001b[0mself\u001b[0m\u001b[0;34m.\u001b[0m\u001b[0munnamed_cols\u001b[0m \u001b[0;34m=\u001b[0m \u001b[0mself\u001b[0m\u001b[0;34m.\u001b[0m\u001b[0m_reader\u001b[0m\u001b[0;34m.\u001b[0m\u001b[0munnamed_cols\u001b[0m\u001b[0;34m\u001b[0m\u001b[0;34m\u001b[0m\u001b[0m\n\u001b[1;32m   2000\u001b[0m \u001b[0;34m\u001b[0m\u001b[0m\n",
            "\u001b[0;32mpandas/_libs/parsers.pyx\u001b[0m in \u001b[0;36mpandas._libs.parsers.TextReader.__cinit__\u001b[0;34m()\u001b[0m\n",
            "\u001b[0;32mpandas/_libs/parsers.pyx\u001b[0m in \u001b[0;36mpandas._libs.parsers.TextReader._setup_parser_source\u001b[0;34m()\u001b[0m\n",
            "\u001b[0;31mFileNotFoundError\u001b[0m: [Errno 2] No such file or directory: './KaterPendulum/data/scan5/kater_2_run12.txt'"
          ]
        },
        {
          "output_type": "display_data",
          "data": {
            "image/png": "[encoded data removed]",
            "text/plain": [
              "<Figure size 432x864 with 7 Axes>"
            ]
          },
          "metadata": {
            "tags": [],
            "needs_background": "light"
          }
        }
      ]
    },
    {
      "cell_type": "code",
      "metadata": {
        "id": "VO3bNp_WYzBV"
      },
      "source": [
        "\n",
        "up = pd.DataFrame({'Xpos':xpos, 'Period':tup, 'dXpos':dxpos, 'dPeriod':dtup})\n",
        "down = pd.DataFrame({'Xpos':xpos, 'Period':tdown, 'dXpos':dxpos, 'dPeriod':dtdown})"
      ],
      "execution_count": null,
      "outputs": []
    },
    {
      "cell_type": "code",
      "metadata": {
        "id": "x6iwTdx1Y5Im"
      },
      "source": [
        "# Let's do linear fits using the curve_fit utility from scipy\n",
        "\n",
        "from scipy.optimize import curve_fit\n",
        "\n",
        "def fitfunction(x,*paramlist):\n",
        "    return paramlist[0]+paramlist[1]*x + paramlist[2]*x*x\n",
        "\n",
        "init_vals = [0.0 for x in range(3)]\n",
        "x = np.array(up['Xpos'])\n",
        "y = np.array(up['Period'])\n",
        "poptu, pcovu = curve_fit(fitfunction,x,y,p0=init_vals)\n",
        "\n",
        "#xi = np.linspace(np.min(x),np.max(x),100)\n",
        "xi = np.linspace(1,7,1000)\n",
        "ps = np.random.multivariate_normal(poptu,pcovu,10000)\n",
        "ysample=np.asarray([fitfunction(xi,*pi) for pi in ps])\n",
        "loweru = np.percentile(ysample,16.0,axis=0)\n",
        "upperu = np.percentile(ysample,84.0,axis=0)\n",
        "middleu = (loweru+upperu)/2.0\n",
        "\n",
        "print(\"Coefficients (from curve_fit)\")\n",
        "print (poptu)\n",
        "print(\"Covariance Matrix (from curve_fit)\")\n",
        "print (pcovu)\n",
        "\n",
        "init_vals = [0.0 for x in range(3)]\n",
        "x = np.array(down['Xpos'])\n",
        "y = np.array(down['Period'])\n",
        "poptd, pcovd = curve_fit(fitfunction,x,y,p0=init_vals)\n",
        "\n",
        "#xi = np.linspace(np.min(x),np.max(x),100)\n",
        "xi = np.linspace(1,7,1000)\n",
        "ps = np.random.multivariate_normal(poptd,pcovd,10000)\n",
        "ysample=np.asarray([fitfunction(xi,*pi) for pi in ps])\n",
        "lowerd = np.percentile(ysample,16.0,axis=0)\n",
        "upperd = np.percentile(ysample,84.0,axis=0)\n",
        "middled = (lowerd+upperd)/2.0\n",
        "\n",
        "print(\"Coefficients (from curve_fit)\")\n",
        "print (poptd)\n",
        "print(\"Covariance Matrix (from curve_fit)\")\n",
        "print (pcovd)\n",
        "\n",
        "fig2, axs2 = plt.subplots(nrows=1, ncols=1, figsize=(8,8)) \n",
        "\n",
        "axs2.errorbar(up.Xpos,up.Period,yerr=up.dPeriod,xerr=up.dXpos,fmt='r.',capsize=5, capthick=2)\n",
        "axs2.errorbar(down.Xpos,down.Period,yerr=down.dPeriod,xerr=down.dXpos,fmt='g.',capsize=5, capthick=2)\n",
        "\n",
        "#axs2.plot(xi,middleu)\n",
        "axs2.plot(xi,loweru,'r')\n",
        "axs2.plot(xi,upperu,'r')\n",
        "\n",
        "#axs2.plot(xi,middle)\n",
        "axs2.plot(xi,lowerd,'g')\n",
        "axs2.plot(xi,upperd,'g')\n",
        "\n",
        "#axs2.set_xlim(3.8,4.3)\n",
        "#axs2.set_ylim(2.003,2.006)\n",
        "\n",
        "plt.show()"
      ],
      "execution_count": null,
      "outputs": []
    },
    {
      "cell_type": "code",
      "metadata": {
        "id": "7A94W4o_Y8z4"
      },
      "source": [
        "tmin = []\n",
        "for i in range(len(xi)):\n",
        "    if loweru[i] < upperd[i]:\n",
        "        tmin.append(loweru[i])\n",
        "tmin = np.array(tmin)\n",
        "tmin = tmin.min()\n",
        "\n",
        "tmax = []\n",
        "for i in range(len(xi)):\n",
        "    if upperu[i] > lowerd[i]:\n",
        "        tmax.append(upperu[i])\n",
        "tmax = np.array(tmax)\n",
        "tmax = tmax.max()\n",
        "\n",
        "tbar = (tmax+tmin)/2.0\n",
        "dtbar = (tmax-tmin)/2.0\n",
        "\n",
        "print (\"Period = %0.5f +/- %0.5f\" % (tbar,dtbar))"
      ],
      "execution_count": null,
      "outputs": []
    },
    {
      "cell_type": "code",
      "metadata": {
        "id": "1L_pxPteY_A6"
      },
      "source": [
        "length = 0.9986\n",
        "dlength = 0.00005\n",
        "\n",
        "g = 4*np.pi**2*length/tbar**2\n",
        "dg = g*np.sqrt((dlength/length)**2+(2*dtbar/tbar)**2)\n",
        "\n",
        "print (\"g = %0.4f +/- %0.4f\" % (g,dg))"
      ],
      "execution_count": null,
      "outputs": []
    },
    {
      "cell_type": "code",
      "metadata": {
        "id": "eHZFJ7Q8ZCd2"
      },
      "source": [
        "# Measured distances and masses\n",
        "M=1.35928 # large mass\n",
        "m=0.72705 # small mass\n",
        "Mbar=2.90 # mass of bar (with small and large masses removed)\n",
        "D=0.9986 # distance between knife-edge pivot points\n",
        "L=1.523  # length of bar\n",
        "#\n",
        "#g = 9.799 # value of g in Newport News\n",
        "g = 9.8144\n",
        "\n",
        "# Distance calculations\n",
        "#\n",
        "# The distance between the knife edge pivot and the lower edge of the large mass is 1.35 cm\n",
        "# The distance between the knife edge pivot and the lower edge of the large mass is 1.04 cm\n",
        "# The radius of the large mass is 4.753 cm\n",
        "# The radius of the small mass is 3.498 cm\n",
        "RM = 0.04753\n",
        "Rm = 0.03498\n",
        "offsetM = 0.0135\n",
        "offsetm = 0.0104\n",
        "l1=D/2.0+RM+offsetM\n",
        "\n",
        "# Find the value of x that satisfies the equation above\n",
        "\n",
        "diff = 1.0E+99\n",
        "olddiff = 1.0E+99\n",
        "l2 = []\n",
        "xpos = []\n",
        "t1 = []\n",
        "t2 = []\n",
        "for i in range(1000):\n",
        "    l2.append(D/2.0+Rm+(i/1000.0)*.12)\n",
        "    xpos.append((l2[i]-offsetm-D/2-Rm-0.0000)*100) # distance from the small mass to the knife-edge, in cm.\n",
        "    x=(M*l1-m*l2[i])/(M+m+Mbar)\n",
        "    h2=D/2.0+x\n",
        "    h1=D/2.0-x\n",
        "    lhs=h1*h2;\n",
        "    Icm=1.0/12.0*Mbar*L*L+Mbar*x*x+M*(l1-x)*(l1-x)+m*(l2[i]+x)*(l2[i]+x)+1/2.0*m*Rm**2 + 1.0/2*M*RM**2\n",
        "    rhs=Icm/(M+m+Mbar)\n",
        "    diff = lhs-rhs\n",
        "    if (np.abs(diff)<olddiff):\n",
        "        olddiff=diff\n",
        "        index=i\n",
        "    t1.append(2*np.pi*np.sqrt((h1*h1+rhs)/(g*h1)))\n",
        "    t2.append(2*np.pi*np.sqrt((h2*h2+rhs)/(g*h2)))\n",
        "    \n",
        "#print (l2,t1,t2)"
      ],
      "execution_count": null,
      "outputs": []
    },
    {
      "cell_type": "code",
      "metadata": {
        "id": "PXAauXs8ZF5u"
      },
      "source": [
        "fig2, axs2 = plt.subplots(nrows=1, ncols=1, figsize=(8,8)) \n",
        "\n",
        "axs2.errorbar(up.Xpos,up.Period,yerr=up.dPeriod,xerr=up.dXpos,fmt='r.',capsize=5, capthick=2)\n",
        "axs2.errorbar(down.Xpos,down.Period,yerr=down.dPeriod,xerr=down.dXpos,fmt='g.',capsize=5, capthick=2)\n",
        "\n",
        "axs2.plot(xi,middleu,'--')\n",
        "#axs2.plot(xi,loweru,'r')\n",
        "#axs2.plot(xi,upperu,'r')\n",
        "\n",
        "axs2.plot(xi,middled,'--')\n",
        "#axs2.plot(xi,lowerd,'g')\n",
        "#axs2.plot(xi,upperd,'g')\n",
        "\n",
        "#axs2.set_xlim(3.8,4.3)\n",
        "#axs2.set_ylim(2.003,2.006)\n",
        "\n",
        "axs2.plot(xpos,t1,label='Small Mass Down')\n",
        "axs2.plot(xpos,t2,label='Small Mass Up')\n",
        "\n",
        "plt.show()"
      ],
      "execution_count": null,
      "outputs": []
    },
    {
      "cell_type": "code",
      "metadata": {
        "id": "DLCXUOiKZLB0"
      },
      "source": [
        "def theoryfitfunction1(xdata,*paramlist):\n",
        "    \n",
        "    M=1.35928 # large mass\n",
        "    m=0.72705 # small mass\n",
        "    Mbar=2.90 # mass of bar (with small and large masses removed)\n",
        "    D=0.9986 # distance between knife-edge pivot points\n",
        "    L=1.523  # length of bar\n",
        "    \n",
        "    g = paramlist[0]\n",
        "    #fudge_factor = paramlist[1]\n",
        "    fudge_factor=0.0000\n",
        "\n",
        "    # Distance calculations\n",
        "    #\n",
        "    # The distance between the knife edge pivot and the lower edge of the large mass is 1.35 cm\n",
        "    # The distance between the knife edge pivot and the lower edge of the large mass is 1.04 cm\n",
        "    # The radius of the large mass is 4.753 cm\n",
        "    # The radius of the small mass is 3.498 cm\n",
        "    RM = 0.04753\n",
        "    Rm = 0.03498\n",
        "    offsetM = 0.0135\n",
        "    offsetm = 0.0104\n",
        "    l1=D/2.0+RM+offsetM\n",
        "    \n",
        "    l2 = D/2.0+Rm+offsetm+xdata/100.0+fudge_factor\n",
        "    x=(M*l1-m*l2)/(M+m+Mbar)\n",
        "    \n",
        "    h2=D/2.0+x\n",
        "    h1=D/2.0-x\n",
        "    Icm=1.0/12.0*Mbar*L*L+Mbar*x*x+M*(l1-x)*(l1-x)+m*(l2+x)*(l2+x)+1/2.0*m*Rm**2 + 1.0/2*M*RM**2\n",
        "    rhs=Icm/(M+m+Mbar)\n",
        "    \n",
        "    t1 = 2*np.pi*np.sqrt((h1*h1+rhs)/(g*h1))\n",
        "    t2 = 2*np.pi*np.sqrt((h2*h2+rhs)/(g*h2))\n",
        "    \n",
        "    return t1\n",
        "\n",
        "def theoryfitfunction2(xdata,*paramlist):\n",
        "    \n",
        "    M=1.35928 # large mass\n",
        "    m=0.72705 # small mass\n",
        "    Mbar=2.90 # mass of bar (with small and large masses removed)\n",
        "    D=0.9986 # distance between knife-edge pivot points\n",
        "    L=1.523  # length of bar\n",
        "    \n",
        "    g = paramlist[0]\n",
        "    #fudge_factor = paramlist[1]\n",
        "    fudge_factor=0.0000\n",
        "\n",
        "    # Distance calculations\n",
        "    #\n",
        "    # The distance between the knife edge pivot and the lower edge of the large mass is 1.35 cm\n",
        "    # The distance between the knife edge pivot and the lower edge of the large mass is 1.04 cm\n",
        "    # The radius of the large mass is 4.753 cm\n",
        "    # The radius of the small mass is 3.498 cm\n",
        "    RM = 0.04753\n",
        "    Rm = 0.03498\n",
        "    offsetM = 0.0135\n",
        "    offsetm = 0.0104\n",
        "    l1=D/2.0+RM+offsetM\n",
        "    \n",
        "    l2 = D/2.0+Rm+offsetm+xdata/100.0+fudge_factor\n",
        "    x=(M*l1-m*l2)/(M+m+Mbar)\n",
        "    \n",
        "    h2=D/2.0+x\n",
        "    h1=D/2.0-x\n",
        "    Icm=1.0/12.0*Mbar*L*L+Mbar*x*x+M*(l1-x)*(l1-x)+m*(l2+x)*(l2+x)+1/2.0*m*Rm**2 + 1.0/2*M*RM**2\n",
        "    rhs=Icm/(M+m+Mbar)\n",
        "    \n",
        "    t1 = 2*np.pi*np.sqrt((h1*h1+rhs)/(g*h1))\n",
        "    t2 = 2*np.pi*np.sqrt((h2*h2+rhs)/(g*h2))\n",
        "    \n",
        "    return t2\n",
        "\n",
        "init_vals = [9.814]\n",
        "x = np.array(up['Xpos'])\n",
        "y = np.array(up['Period'])\n",
        "poptu, pcovu = curve_fit(theoryfitfunction1,x,y,p0=init_vals)\n",
        "\n",
        "#xi = np.linspace(np.min(x),np.max(x),100)\n",
        "xi = np.linspace(1,7,1000)\n",
        "ps = np.random.multivariate_normal(poptu,pcovu,10000)\n",
        "ysample=np.asarray([theoryfitfunction1(xi,*pi) for pi in ps])\n",
        "loweru = np.percentile(ysample,16.0,axis=0)\n",
        "upperu = np.percentile(ysample,84.0,axis=0)\n",
        "middleu = (loweru+upperu)/2.0\n",
        "\n",
        "print(\"Coefficients (from curve_fit)\")\n",
        "print (poptu)\n",
        "print(\"Covariance Matrix (from curve_fit)\")\n",
        "print (pcovu)\n",
        "\n",
        "init_vals = [9.814]\n",
        "x = np.array(down['Xpos'])\n",
        "y = np.array(down['Period'])\n",
        "poptd, pcovd = curve_fit(theoryfitfunction2,x,y,p0=init_vals)\n",
        "\n",
        "#xi = np.linspace(np.min(x),np.max(x),100)\n",
        "xi = np.linspace(1,7,1000)\n",
        "ps = np.random.multivariate_normal(poptd,pcovd,10000)\n",
        "ysample=np.asarray([theoryfitfunction2(xi,*pi) for pi in ps])\n",
        "lowerd = np.percentile(ysample,16.0,axis=0)\n",
        "upperd = np.percentile(ysample,84.0,axis=0)\n",
        "middled = (lowerd+upperd)/2.0\n",
        "\n",
        "print(\"Coefficients (from curve_fit)\")\n",
        "print (poptd)\n",
        "print(\"Covariance Matrix (from curve_fit)\")\n",
        "print (pcovd)\n",
        "\n",
        "fig2, axs2 = plt.subplots(nrows=1, ncols=1, figsize=(8,8)) \n",
        "\n",
        "axs2.errorbar(up.Xpos,up.Period,yerr=up.dPeriod,xerr=up.dXpos,fmt='r.',capsize=5, capthick=2)\n",
        "axs2.errorbar(down.Xpos,down.Period,yerr=down.dPeriod,xerr=down.dXpos,fmt='g.',capsize=5, capthick=2)\n",
        "\n",
        "axs2.plot(xi,middleu)\n",
        "axs2.plot(xi,loweru,'r')\n",
        "axs2.plot(xi,upperu,'r')\n",
        "\n",
        "axs2.plot(xi,middled)\n",
        "axs2.plot(xi,lowerd,'g')\n",
        "axs2.plot(xi,upperd,'g')\n",
        "\n",
        "#axs2.set_xlim(3.8,4.3)\n",
        "#axs2.set_ylim(2.003,2.006)\n",
        "\n",
        "plt.show()"
      ],
      "execution_count": null,
      "outputs": []
    },
    {
      "cell_type": "code",
      "metadata": {
        "id": "WLhH7OrnZPiM"
      },
      "source": [
        "tmin = []\n",
        "for i in range(len(xi)):\n",
        "    if loweru[i] < upperd[i]:\n",
        "        tmin.append(loweru[i])\n",
        "tmin = np.array(tmin)\n",
        "tmin = tmin.min()\n",
        "\n",
        "tmax = []\n",
        "for i in range(len(xi)):\n",
        "    if upperu[i] > lowerd[i]:\n",
        "        tmax.append(upperu[i])\n",
        "tmax = np.array(tmax)\n",
        "tmax = tmax.max()\n",
        "\n",
        "tbar = (tmax+tmin)/2.0\n",
        "dtbar = (tmax-tmin)/2.0\n",
        "\n",
        "print (\"Period = %0.5f +/- %0.5f\" % (tbar,dtbar))"
      ],
      "execution_count": null,
      "outputs": []
    },
    {
      "cell_type": "code",
      "metadata": {
        "id": "0BASMop0ZSzR"
      },
      "source": [
        "length = 0.9986\n",
        "dlength = 0.00005\n",
        "\n",
        "g = 4*np.pi**2*length/tbar**2\n",
        "dg = g*np.sqrt((dlength/length)**2+(2*dtbar/tbar)**2)\n",
        "\n",
        "print (\"g = %0.4f +/- %0.4f\" % (g,dg))"
      ],
      "execution_count": null,
      "outputs": []
    }
  ]
}